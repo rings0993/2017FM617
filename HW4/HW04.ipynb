{
 "cells": [
  {
   "cell_type": "markdown",
   "metadata": {},
   "source": [
    "# Q1. 寫一個九九乘法表！"
   ]
  },
  {
   "cell_type": "code",
   "execution_count": 124,
   "metadata": {},
   "outputs": [
    {
     "name": "stdout",
     "output_type": "stream",
     "text": [
      "5 * 1 = 05         6 * 1 = 06         7 * 1 = 07         8 * 1 = 08         9 * 1 = 09         \n",
      "5 * 2 = 10         6 * 2 = 12         7 * 2 = 14         8 * 2 = 16         9 * 2 = 18         \n",
      "5 * 3 = 15         6 * 3 = 18         7 * 3 = 21         8 * 3 = 24         9 * 3 = 27         \n",
      "5 * 4 = 20         6 * 4 = 24         7 * 4 = 28         8 * 4 = 32         9 * 4 = 36         \n",
      "5 * 5 = 25         6 * 5 = 30         7 * 5 = 35         8 * 5 = 40         9 * 5 = 45         \n",
      "5 * 6 = 30         6 * 6 = 36         7 * 6 = 42         8 * 6 = 48         9 * 6 = 54         \n",
      "5 * 7 = 35         6 * 7 = 42         7 * 7 = 49         8 * 7 = 56         9 * 7 = 63         \n",
      "5 * 8 = 40         6 * 8 = 48         7 * 8 = 56         8 * 8 = 64         9 * 8 = 72         \n",
      "5 * 9 = 45         6 * 9 = 54         7 * 9 = 63         8 * 9 = 72         9 * 9 = 81         \n"
     ]
    }
   ],
   "source": [
    "def multiplication_table(m, n):\n",
    "    i= 1\n",
    "    \n",
    "    while i <= 9:\n",
    "        for j in range(m,n+1):\n",
    "            print (j,\"*\",i,\"=\",str(j*i).zfill(2),end=\"         \")\n",
    "        print('')\n",
    "        i += 1\n",
    "\n",
    "multiplication_table(5,9)"
   ]
  },
  {
   "cell_type": "markdown",
   "metadata": {},
   "source": [
    "# Q2. 寫一個可以產生金字塔的函式！"
   ]
  },
  {
   "cell_type": "code",
   "execution_count": 21,
   "metadata": {},
   "outputs": [
    {
     "name": "stdout",
     "output_type": "stream",
     "text": [
      "   *\n",
      "  ***\n",
      " *****\n"
     ]
    }
   ],
   "source": [
    "def pyramid(n):\n",
    "    \n",
    "    for i in range(n):\n",
    "        print (' '*(n-i) + '*' *(2*i+1)) \n",
    "        \n",
    "\n",
    "pyramid(3)"
   ]
  },
  {
   "cell_type": "code",
   "execution_count": 50,
   "metadata": {},
   "outputs": [
    {
     "name": "stdout",
     "output_type": "stream",
     "text": [
      "333  \n",
      "444 \n",
      "5555\n",
      "444\n"
     ]
    }
   ],
   "source": [
    "print('333  \\n444 \\n5555' )\n",
    "print('444')"
   ]
  },
  {
   "cell_type": "markdown",
   "metadata": {},
   "source": [
    "# Q3. 將 Q1 跟 Q2 的函式寫入一個模組，並呼叫模組裡面的函式來使用。"
   ]
  },
  {
   "cell_type": "code",
   "execution_count": 13,
   "metadata": {
    "collapsed": true
   },
   "outputs": [],
   "source": [
    "import HW04.HW04 as HW04"
   ]
  },
  {
   "cell_type": "code",
   "execution_count": 14,
   "metadata": {},
   "outputs": [
    {
     "name": "stdout",
     "output_type": "stream",
     "text": [
      "1 * 1 = 01         2 * 1 = 02         3 * 1 = 03         \n",
      "1 * 2 = 02         2 * 2 = 04         3 * 2 = 06         \n",
      "1 * 3 = 03         2 * 3 = 06         3 * 3 = 09         \n",
      "1 * 4 = 04         2 * 4 = 08         3 * 4 = 12         \n",
      "1 * 5 = 05         2 * 5 = 10         3 * 5 = 15         \n",
      "1 * 6 = 06         2 * 6 = 12         3 * 6 = 18         \n",
      "1 * 7 = 07         2 * 7 = 14         3 * 7 = 21         \n",
      "1 * 8 = 08         2 * 8 = 16         3 * 8 = 24         \n",
      "1 * 9 = 09         2 * 9 = 18         3 * 9 = 27         \n",
      "4 * 1 = 04         5 * 1 = 05         6 * 1 = 06         \n",
      "4 * 2 = 08         5 * 2 = 10         6 * 2 = 12         \n",
      "4 * 3 = 12         5 * 3 = 15         6 * 3 = 18         \n",
      "4 * 4 = 16         5 * 4 = 20         6 * 4 = 24         \n",
      "4 * 5 = 20         5 * 5 = 25         6 * 5 = 30         \n",
      "4 * 6 = 24         5 * 6 = 30         6 * 6 = 36         \n",
      "4 * 7 = 28         5 * 7 = 35         6 * 7 = 42         \n",
      "4 * 8 = 32         5 * 8 = 40         6 * 8 = 48         \n",
      "4 * 9 = 36         5 * 9 = 45         6 * 9 = 54         \n",
      "7 * 1 = 07         8 * 1 = 08         9 * 1 = 09         \n",
      "7 * 2 = 14         8 * 2 = 16         9 * 2 = 18         \n",
      "7 * 3 = 21         8 * 3 = 24         9 * 3 = 27         \n",
      "7 * 4 = 28         8 * 4 = 32         9 * 4 = 36         \n",
      "7 * 5 = 35         8 * 5 = 40         9 * 5 = 45         \n",
      "7 * 6 = 42         8 * 6 = 48         9 * 6 = 54         \n",
      "7 * 7 = 49         8 * 7 = 56         9 * 7 = 63         \n",
      "7 * 8 = 56         8 * 8 = 64         9 * 8 = 72         \n",
      "7 * 9 = 63         8 * 9 = 72         9 * 9 = 81         \n"
     ]
    }
   ],
   "source": [
    "HW04.multiplication_table(1, 3)\n",
    "HW04.multiplication_table(4, 6)\n",
    "HW04.multiplication_table(7, 9)"
   ]
  },
  {
   "cell_type": "code",
   "execution_count": 15,
   "metadata": {},
   "outputs": [
    {
     "name": "stdout",
     "output_type": "stream",
     "text": [
      "2 * 1 = 02         3 * 1 = 03         4 * 1 = 04         5 * 1 = 05         \n",
      "2 * 2 = 04         3 * 2 = 06         4 * 2 = 08         5 * 2 = 10         \n",
      "2 * 3 = 06         3 * 3 = 09         4 * 3 = 12         5 * 3 = 15         \n",
      "2 * 4 = 08         3 * 4 = 12         4 * 4 = 16         5 * 4 = 20         \n",
      "2 * 5 = 10         3 * 5 = 15         4 * 5 = 20         5 * 5 = 25         \n",
      "2 * 6 = 12         3 * 6 = 18         4 * 6 = 24         5 * 6 = 30         \n",
      "2 * 7 = 14         3 * 7 = 21         4 * 7 = 28         5 * 7 = 35         \n",
      "2 * 8 = 16         3 * 8 = 24         4 * 8 = 32         5 * 8 = 40         \n",
      "2 * 9 = 18         3 * 9 = 27         4 * 9 = 36         5 * 9 = 45         \n",
      "6 * 1 = 06         7 * 1 = 07         8 * 1 = 08         9 * 1 = 09         \n",
      "6 * 2 = 12         7 * 2 = 14         8 * 2 = 16         9 * 2 = 18         \n",
      "6 * 3 = 18         7 * 3 = 21         8 * 3 = 24         9 * 3 = 27         \n",
      "6 * 4 = 24         7 * 4 = 28         8 * 4 = 32         9 * 4 = 36         \n",
      "6 * 5 = 30         7 * 5 = 35         8 * 5 = 40         9 * 5 = 45         \n",
      "6 * 6 = 36         7 * 6 = 42         8 * 6 = 48         9 * 6 = 54         \n",
      "6 * 7 = 42         7 * 7 = 49         8 * 7 = 56         9 * 7 = 63         \n",
      "6 * 8 = 48         7 * 8 = 56         8 * 8 = 64         9 * 8 = 72         \n",
      "6 * 9 = 54         7 * 9 = 63         8 * 9 = 72         9 * 9 = 81         \n"
     ]
    }
   ],
   "source": [
    "HW04.multiplication_table(2, 5)\n",
    "HW04.multiplication_table(6, 9)"
   ]
  },
  {
   "cell_type": "code",
   "execution_count": 16,
   "metadata": {},
   "outputs": [
    {
     "name": "stdout",
     "output_type": "stream",
     "text": [
      "                              *\n",
      "                             ***\n",
      "                            *****\n",
      "                           *******\n",
      "                          *********\n",
      "                         ***********\n",
      "                        *************\n",
      "                       ***************\n",
      "                      *****************\n",
      "                     *******************\n",
      "                    *********************\n",
      "                   ***********************\n",
      "                  *************************\n",
      "                 ***************************\n",
      "                *****************************\n",
      "               *******************************\n",
      "              *********************************\n",
      "             ***********************************\n",
      "            *************************************\n",
      "           ***************************************\n",
      "          *****************************************\n",
      "         *******************************************\n",
      "        *********************************************\n",
      "       ***********************************************\n",
      "      *************************************************\n",
      "     ***************************************************\n",
      "    *****************************************************\n",
      "   *******************************************************\n",
      "  *********************************************************\n",
      " ***********************************************************\n"
     ]
    }
   ],
   "source": [
    "HW04.pyramid(30)"
   ]
  },
  {
   "cell_type": "code",
   "execution_count": null,
   "metadata": {
    "collapsed": true
   },
   "outputs": [],
   "source": []
  }
 ],
 "metadata": {
  "kernelspec": {
   "display_name": "Python 3",
   "language": "python",
   "name": "python3"
  },
  "language_info": {
   "codemirror_mode": {
    "name": "ipython",
    "version": 3
   },
   "file_extension": ".py",
   "mimetype": "text/x-python",
   "name": "python",
   "nbconvert_exporter": "python",
   "pygments_lexer": "ipython3",
   "version": "3.6.3"
  },
  "varInspector": {
   "cols": {
    "lenName": 16,
    "lenType": 16,
    "lenVar": 40
   },
   "kernels_config": {
    "python": {
     "delete_cmd_postfix": "",
     "delete_cmd_prefix": "del ",
     "library": "var_list.py",
     "varRefreshCmd": "print(var_dic_list())"
    },
    "r": {
     "delete_cmd_postfix": ") ",
     "delete_cmd_prefix": "rm(",
     "library": "var_list.r",
     "varRefreshCmd": "cat(var_dic_list()) "
    }
   },
   "types_to_exclude": [
    "module",
    "function",
    "builtin_function_or_method",
    "instance",
    "_Feature"
   ],
   "window_display": false
  }
 },
 "nbformat": 4,
 "nbformat_minor": 2
}
