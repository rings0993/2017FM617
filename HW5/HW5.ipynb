{
 "cells": [
  {
   "cell_type": "markdown",
   "metadata": {},
   "source": [
    "# Q1. 寫一個函式，抓取 Google Finance 的股價歷史資料"
   ]
  },
  {
   "cell_type": "code",
   "execution_count": 1,
   "metadata": {
    "collapsed": true
   },
   "outputs": [],
   "source": [
    "import requests\n",
    "import csv\n",
    "import pandas as pd\n",
    "import pandas_datareader as web\n",
    "from datetime import datetime\n",
    "from plotly import tools\n",
    "import plotly.plotly as py\n",
    "import plotly.graph_objs as go"
   ]
  },
  {
   "cell_type": "code",
   "execution_count": 2,
   "metadata": {
    "collapsed": true
   },
   "outputs": [],
   "source": [
    "def vay_Datareader(Symbol,start,end = str(datetime.now())[:10]):\n",
    "    #如果不輸入結束時間，自動設定為當天日期\n",
    "    \n",
    "    url = 'http://finance.google.com/finance/historical'\n",
    "\n",
    "    params = {}\n",
    "    params['q'] = Symbol\n",
    "    params['startdate'] = start\n",
    "    params['enddate'] = end\n",
    "    params['output'] = 'csv'\n",
    "\n",
    "    r = requests.get(url, params= params)\n",
    "    lines = r.text.split('\\n')\n",
    "    datas = [line.split(\",\") for line in lines]\n",
    "    df = pd.DataFrame(datas[1:-1],columns=datas[0])\n",
    "    \n",
    "    return df"
   ]
  },
  {
   "cell_type": "code",
   "execution_count": 3,
   "metadata": {},
   "outputs": [
    {
     "data": {
      "text/html": [
       "<div>\n",
       "<style>\n",
       "    .dataframe thead tr:only-child th {\n",
       "        text-align: right;\n",
       "    }\n",
       "\n",
       "    .dataframe thead th {\n",
       "        text-align: left;\n",
       "    }\n",
       "\n",
       "    .dataframe tbody tr th {\n",
       "        vertical-align: top;\n",
       "    }\n",
       "</style>\n",
       "<table border=\"1\" class=\"dataframe\">\n",
       "  <thead>\n",
       "    <tr style=\"text-align: right;\">\n",
       "      <th></th>\n",
       "      <th>Date</th>\n",
       "      <th>Open</th>\n",
       "      <th>High</th>\n",
       "      <th>Low</th>\n",
       "      <th>Close</th>\n",
       "      <th>Volume</th>\n",
       "    </tr>\n",
       "  </thead>\n",
       "  <tbody>\n",
       "    <tr>\n",
       "      <th>0</th>\n",
       "      <td>2-Feb-16</td>\n",
       "      <td>192.42</td>\n",
       "      <td>193.12</td>\n",
       "      <td>180.23</td>\n",
       "      <td>182.78</td>\n",
       "      <td>5762855</td>\n",
       "    </tr>\n",
       "    <tr>\n",
       "      <th>1</th>\n",
       "      <td>1-Feb-16</td>\n",
       "      <td>188.76</td>\n",
       "      <td>199.52</td>\n",
       "      <td>182.75</td>\n",
       "      <td>196.94</td>\n",
       "      <td>5293766</td>\n",
       "    </tr>\n",
       "    <tr>\n",
       "      <th>2</th>\n",
       "      <td>29-Jan-16</td>\n",
       "      <td>189.95</td>\n",
       "      <td>193.74</td>\n",
       "      <td>188.08</td>\n",
       "      <td>191.20</td>\n",
       "      <td>2841003</td>\n",
       "    </tr>\n",
       "    <tr>\n",
       "      <th>3</th>\n",
       "      <td>28-Jan-16</td>\n",
       "      <td>190.79</td>\n",
       "      <td>191.28</td>\n",
       "      <td>182.41</td>\n",
       "      <td>189.70</td>\n",
       "      <td>4581652</td>\n",
       "    </tr>\n",
       "    <tr>\n",
       "      <th>4</th>\n",
       "      <td>27-Jan-16</td>\n",
       "      <td>192.38</td>\n",
       "      <td>193.26</td>\n",
       "      <td>185.77</td>\n",
       "      <td>188.07</td>\n",
       "      <td>3565378</td>\n",
       "    </tr>\n",
       "  </tbody>\n",
       "</table>\n",
       "</div>"
      ],
      "text/plain": [
       "        Date    Open    High     Low   Close   Volume\n",
       "0   2-Feb-16  192.42  193.12  180.23  182.78  5762855\n",
       "1   1-Feb-16  188.76  199.52  182.75  196.94  5293766\n",
       "2  29-Jan-16  189.95  193.74  188.08  191.20  2841003\n",
       "3  28-Jan-16  190.79  191.28  182.41  189.70  4581652\n",
       "4  27-Jan-16  192.38  193.26  185.77  188.07  3565378"
      ]
     },
     "execution_count": 3,
     "metadata": {},
     "output_type": "execute_result"
    }
   ],
   "source": [
    "df = vay_Datareader('TSLA','2013-01-01','2016-02-02')\n",
    "df.head()"
   ]
  },
  {
   "cell_type": "code",
   "execution_count": 4,
   "metadata": {},
   "outputs": [
    {
     "data": {
      "text/html": [
       "<div>\n",
       "<style>\n",
       "    .dataframe thead tr:only-child th {\n",
       "        text-align: right;\n",
       "    }\n",
       "\n",
       "    .dataframe thead th {\n",
       "        text-align: left;\n",
       "    }\n",
       "\n",
       "    .dataframe tbody tr th {\n",
       "        vertical-align: top;\n",
       "    }\n",
       "</style>\n",
       "<table border=\"1\" class=\"dataframe\">\n",
       "  <thead>\n",
       "    <tr style=\"text-align: right;\">\n",
       "      <th></th>\n",
       "      <th>Date</th>\n",
       "      <th>Open</th>\n",
       "      <th>High</th>\n",
       "      <th>Low</th>\n",
       "      <th>Close</th>\n",
       "      <th>Volume</th>\n",
       "    </tr>\n",
       "  </thead>\n",
       "  <tbody>\n",
       "    <tr>\n",
       "      <th>0</th>\n",
       "      <td>6-Dec-17</td>\n",
       "      <td>300.10</td>\n",
       "      <td>313.39</td>\n",
       "      <td>300.00</td>\n",
       "      <td>313.26</td>\n",
       "      <td>7195341</td>\n",
       "    </tr>\n",
       "    <tr>\n",
       "      <th>1</th>\n",
       "      <td>5-Dec-17</td>\n",
       "      <td>302.00</td>\n",
       "      <td>308.00</td>\n",
       "      <td>301.00</td>\n",
       "      <td>303.70</td>\n",
       "      <td>4646520</td>\n",
       "    </tr>\n",
       "    <tr>\n",
       "      <th>2</th>\n",
       "      <td>4-Dec-17</td>\n",
       "      <td>306.50</td>\n",
       "      <td>308.26</td>\n",
       "      <td>300.61</td>\n",
       "      <td>305.20</td>\n",
       "      <td>5835140</td>\n",
       "    </tr>\n",
       "    <tr>\n",
       "      <th>3</th>\n",
       "      <td>1-Dec-17</td>\n",
       "      <td>305.44</td>\n",
       "      <td>310.32</td>\n",
       "      <td>305.05</td>\n",
       "      <td>306.53</td>\n",
       "      <td>4292868</td>\n",
       "    </tr>\n",
       "    <tr>\n",
       "      <th>4</th>\n",
       "      <td>30-Nov-17</td>\n",
       "      <td>308.56</td>\n",
       "      <td>310.70</td>\n",
       "      <td>304.54</td>\n",
       "      <td>308.85</td>\n",
       "      <td>4351587</td>\n",
       "    </tr>\n",
       "  </tbody>\n",
       "</table>\n",
       "</div>"
      ],
      "text/plain": [
       "        Date    Open    High     Low   Close   Volume\n",
       "0   6-Dec-17  300.10  313.39  300.00  313.26  7195341\n",
       "1   5-Dec-17  302.00  308.00  301.00  303.70  4646520\n",
       "2   4-Dec-17  306.50  308.26  300.61  305.20  5835140\n",
       "3   1-Dec-17  305.44  310.32  305.05  306.53  4292868\n",
       "4  30-Nov-17  308.56  310.70  304.54  308.85  4351587"
      ]
     },
     "execution_count": 4,
     "metadata": {},
     "output_type": "execute_result"
    }
   ],
   "source": [
    "df1 = vay_Datareader('TSLA','2013-01-01')\n",
    "df1.head()"
   ]
  },
  {
   "cell_type": "markdown",
   "metadata": {},
   "source": [
    "# Q2. 抓取台股歷史資料，並繪製價量圖形"
   ]
  },
  {
   "cell_type": "code",
   "execution_count": 5,
   "metadata": {
    "collapsed": true
   },
   "outputs": [],
   "source": [
    "df = web.DataReader('2330.tw','yahoo',start='2016-01-01')"
   ]
  },
  {
   "cell_type": "code",
   "execution_count": 6,
   "metadata": {
    "collapsed": true
   },
   "outputs": [],
   "source": [
    "df.dropna(inplace= True)"
   ]
  },
  {
   "cell_type": "code",
   "execution_count": 7,
   "metadata": {},
   "outputs": [
    {
     "data": {
      "text/html": [
       "<div>\n",
       "<style>\n",
       "    .dataframe thead tr:only-child th {\n",
       "        text-align: right;\n",
       "    }\n",
       "\n",
       "    .dataframe thead th {\n",
       "        text-align: left;\n",
       "    }\n",
       "\n",
       "    .dataframe tbody tr th {\n",
       "        vertical-align: top;\n",
       "    }\n",
       "</style>\n",
       "<table border=\"1\" class=\"dataframe\">\n",
       "  <thead>\n",
       "    <tr style=\"text-align: right;\">\n",
       "      <th></th>\n",
       "      <th>Open</th>\n",
       "      <th>High</th>\n",
       "      <th>Low</th>\n",
       "      <th>Close</th>\n",
       "      <th>Adj Close</th>\n",
       "      <th>Volume</th>\n",
       "    </tr>\n",
       "    <tr>\n",
       "      <th>Date</th>\n",
       "      <th></th>\n",
       "      <th></th>\n",
       "      <th></th>\n",
       "      <th></th>\n",
       "      <th></th>\n",
       "      <th></th>\n",
       "    </tr>\n",
       "  </thead>\n",
       "  <tbody>\n",
       "    <tr>\n",
       "      <th>2016-01-04</th>\n",
       "      <td>143.0</td>\n",
       "      <td>143.5</td>\n",
       "      <td>139.0</td>\n",
       "      <td>139.5</td>\n",
       "      <td>129.905670</td>\n",
       "      <td>39169000.0</td>\n",
       "    </tr>\n",
       "    <tr>\n",
       "      <th>2016-01-05</th>\n",
       "      <td>139.0</td>\n",
       "      <td>140.0</td>\n",
       "      <td>137.0</td>\n",
       "      <td>138.0</td>\n",
       "      <td>128.508820</td>\n",
       "      <td>46381000.0</td>\n",
       "    </tr>\n",
       "    <tr>\n",
       "      <th>2016-01-06</th>\n",
       "      <td>138.0</td>\n",
       "      <td>138.0</td>\n",
       "      <td>135.0</td>\n",
       "      <td>135.5</td>\n",
       "      <td>126.180771</td>\n",
       "      <td>53617000.0</td>\n",
       "    </tr>\n",
       "    <tr>\n",
       "      <th>2016-01-07</th>\n",
       "      <td>134.5</td>\n",
       "      <td>135.0</td>\n",
       "      <td>130.5</td>\n",
       "      <td>133.0</td>\n",
       "      <td>123.852715</td>\n",
       "      <td>62539000.0</td>\n",
       "    </tr>\n",
       "    <tr>\n",
       "      <th>2016-01-08</th>\n",
       "      <td>132.0</td>\n",
       "      <td>135.0</td>\n",
       "      <td>132.0</td>\n",
       "      <td>134.0</td>\n",
       "      <td>124.783943</td>\n",
       "      <td>50123000.0</td>\n",
       "    </tr>\n",
       "  </tbody>\n",
       "</table>\n",
       "</div>"
      ],
      "text/plain": [
       "             Open   High    Low  Close   Adj Close      Volume\n",
       "Date                                                          \n",
       "2016-01-04  143.0  143.5  139.0  139.5  129.905670  39169000.0\n",
       "2016-01-05  139.0  140.0  137.0  138.0  128.508820  46381000.0\n",
       "2016-01-06  138.0  138.0  135.0  135.5  126.180771  53617000.0\n",
       "2016-01-07  134.5  135.0  130.5  133.0  123.852715  62539000.0\n",
       "2016-01-08  132.0  135.0  132.0  134.0  124.783943  50123000.0"
      ]
     },
     "execution_count": 7,
     "metadata": {},
     "output_type": "execute_result"
    }
   ],
   "source": [
    "df.head()"
   ]
  },
  {
   "cell_type": "code",
   "execution_count": 8,
   "metadata": {},
   "outputs": [
    {
     "name": "stdout",
     "output_type": "stream",
     "text": [
      "This is the format of your plot grid:\n",
      "[ (1,1) x1,y1 ]\n",
      "[ (2,1) x2,y2 ]\n",
      "\n"
     ]
    },
    {
     "data": {
      "text/html": [
       "<iframe id=\"igraph\" scrolling=\"no\" style=\"border:none;\" seamless=\"seamless\" src=\"https://plot.ly/~LiuHsinyu/21.embed\" height=\"525px\" width=\"100%\"></iframe>"
      ],
      "text/plain": [
       "<plotly.tools.PlotlyDisplay object>"
      ]
     },
     "execution_count": 8,
     "metadata": {},
     "output_type": "execute_result"
    }
   ],
   "source": [
    "trace1 = go.Candlestick(x=df.index,\n",
    "                       open=df.Open,\n",
    "                       high=df.High,\n",
    "                       low=df.Low,\n",
    "                       close=df.Close)\n",
    "\n",
    "trace2 = go.Bar(\n",
    "            x=df.index,\n",
    "            y=df.Volume\n",
    "    )\n",
    "\n",
    "fig = tools.make_subplots(rows=2, cols=1)\n",
    "\n",
    "fig.append_trace(trace1, 1, 1)\n",
    "fig.append_trace(trace2, 2, 1)\n",
    "\n",
    "fig['layout'].update(title='台積電價量關係')\n",
    "py.iplot(fig, filename='台積電價量關係')\n",
    "\n"
   ]
  },
  {
   "cell_type": "code",
   "execution_count": null,
   "metadata": {
    "collapsed": true
   },
   "outputs": [],
   "source": []
  }
 ],
 "metadata": {
  "kernelspec": {
   "display_name": "Python 3",
   "language": "python",
   "name": "python3"
  },
  "language_info": {
   "codemirror_mode": {
    "name": "ipython",
    "version": 3
   },
   "file_extension": ".py",
   "mimetype": "text/x-python",
   "name": "python",
   "nbconvert_exporter": "python",
   "pygments_lexer": "ipython3",
   "version": "3.6.3"
  },
  "varInspector": {
   "cols": {
    "lenName": 16,
    "lenType": 16,
    "lenVar": 40
   },
   "kernels_config": {
    "python": {
     "delete_cmd_postfix": "",
     "delete_cmd_prefix": "del ",
     "library": "var_list.py",
     "varRefreshCmd": "print(var_dic_list())"
    },
    "r": {
     "delete_cmd_postfix": ") ",
     "delete_cmd_prefix": "rm(",
     "library": "var_list.r",
     "varRefreshCmd": "cat(var_dic_list()) "
    }
   },
   "types_to_exclude": [
    "module",
    "function",
    "builtin_function_or_method",
    "instance",
    "_Feature"
   ],
   "window_display": false
  }
 },
 "nbformat": 4,
 "nbformat_minor": 2
}
