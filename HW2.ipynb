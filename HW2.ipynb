{
 "cells": [
  {
   "cell_type": "code",
   "execution_count": 107,
   "metadata": {},
   "outputs": [],
   "source": [
    "import pandas as pd\n",
    "import numpy as np\n",
    "from scipy import stats\n",
    "import matplotlib.pyplot as plt\n",
    "\n",
    "import plotly.plotly as py\n",
    "import plotly.graph_objs as go"
   ]
  },
  {
   "cell_type": "code",
   "execution_count": 56,
   "metadata": {
    "collapsed": true
   },
   "outputs": [],
   "source": [
    "stock = pd.read_excel(\"Stock Price.xlsx\")\n",
    "index_price = pd.read_excel(\"Index Price.xlsx\")"
   ]
  },
  {
   "cell_type": "code",
   "execution_count": 57,
   "metadata": {
    "collapsed": true
   },
   "outputs": [],
   "source": [
    "stock.columns = ['Date', 'x2330', 'x2317', 'x6505', 'x2412', 'x3008']\n",
    "stock.set_index(\"Date\",inplace= True)"
   ]
  },
  {
   "cell_type": "code",
   "execution_count": 58,
   "metadata": {
    "collapsed": true
   },
   "outputs": [],
   "source": [
    "index_price.columns = ['Date', '日經225指數', '香港恆生指數',\n",
    "       '美國NASDAQ Composite指數', '中國上證180指數',\n",
    "       'TI']\n",
    "index_price.set_index(\"Date\", inplace=True)\n",
    "TI = index_price.iloc[:,4:5]"
   ]
  },
  {
   "cell_type": "code",
   "execution_count": 59,
   "metadata": {
    "collapsed": true
   },
   "outputs": [],
   "source": [
    "fulltable = stock.join(TI)\n",
    "fulltable_return = fulltable.pct_change().dropna()\n",
    "fulltableT = fulltable_return.transpose()"
   ]
  },
  {
   "cell_type": "code",
   "execution_count": 60,
   "metadata": {
    "collapsed": true
   },
   "outputs": [],
   "source": [
    "data = fulltableT.values"
   ]
  },
  {
   "cell_type": "code",
   "execution_count": 61,
   "metadata": {
    "collapsed": true
   },
   "outputs": [],
   "source": [
    "def ols(i):\n",
    "    slope, intercept, r_value, p_value, std_err = stats.linregress(data[5], data[i])\n",
    "    return slope, intercept, r_value, p_value, std_err"
   ]
  },
  {
   "cell_type": "code",
   "execution_count": 62,
   "metadata": {},
   "outputs": [],
   "source": [
    "slope, intercept, r_value, p_value, std_err = np.column_stack([\n",
    "    ols(i) \n",
    "    for i in range(5)\n",
    "])"
   ]
  },
  {
   "cell_type": "code",
   "execution_count": 63,
   "metadata": {},
   "outputs": [],
   "source": [
    "result1 = pd.DataFrame([])\n",
    "\n",
    "result1[\"Name\"] = fulltable.columns.tolist()[:5]\n",
    "result1[\"Slope\"] = slope\n",
    "result1[\"Intercept\"] = intercept\n",
    "result1[\"R\"] = r_value\n",
    "result1[\"P-value\"] = p_value\n",
    "result1[\"Std ERR\"] = std_err\n",
    "result1.set_index(\"Name\", inplace=True)\n",
    "result1 = result1.transpose()"
   ]
  },
  {
   "cell_type": "code",
   "execution_count": 64,
   "metadata": {},
   "outputs": [
    {
     "data": {
      "text/html": [
       "<div>\n",
       "<style>\n",
       "    .dataframe thead tr:only-child th {\n",
       "        text-align: right;\n",
       "    }\n",
       "\n",
       "    .dataframe thead th {\n",
       "        text-align: left;\n",
       "    }\n",
       "\n",
       "    .dataframe tbody tr th {\n",
       "        vertical-align: top;\n",
       "    }\n",
       "</style>\n",
       "<table border=\"1\" class=\"dataframe\">\n",
       "  <thead>\n",
       "    <tr style=\"text-align: right;\">\n",
       "      <th>Name</th>\n",
       "      <th>x2330</th>\n",
       "      <th>x2317</th>\n",
       "      <th>x6505</th>\n",
       "      <th>x2412</th>\n",
       "      <th>x3008</th>\n",
       "    </tr>\n",
       "  </thead>\n",
       "  <tbody>\n",
       "    <tr>\n",
       "      <th>Slope</th>\n",
       "      <td>1.012544</td>\n",
       "      <td>1.231096</td>\n",
       "      <td>8.023646e-01</td>\n",
       "      <td>3.067692e-01</td>\n",
       "      <td>1.226868e+00</td>\n",
       "    </tr>\n",
       "    <tr>\n",
       "      <th>Intercept</th>\n",
       "      <td>0.000528</td>\n",
       "      <td>-0.000258</td>\n",
       "      <td>8.650164e-05</td>\n",
       "      <td>2.649602e-04</td>\n",
       "      <td>1.367997e-03</td>\n",
       "    </tr>\n",
       "    <tr>\n",
       "      <th>R</th>\n",
       "      <td>0.719706</td>\n",
       "      <td>0.718608</td>\n",
       "      <td>5.716112e-01</td>\n",
       "      <td>2.902508e-01</td>\n",
       "      <td>5.156340e-01</td>\n",
       "    </tr>\n",
       "    <tr>\n",
       "      <th>P-value</th>\n",
       "      <td>0.000000</td>\n",
       "      <td>0.000000</td>\n",
       "      <td>4.491922e-215</td>\n",
       "      <td>2.533033e-49</td>\n",
       "      <td>1.761032e-168</td>\n",
       "    </tr>\n",
       "    <tr>\n",
       "      <th>Std ERR</th>\n",
       "      <td>0.019626</td>\n",
       "      <td>0.023938</td>\n",
       "      <td>2.314194e-02</td>\n",
       "      <td>2.032193e-02</td>\n",
       "      <td>4.096165e-02</td>\n",
       "    </tr>\n",
       "  </tbody>\n",
       "</table>\n",
       "</div>"
      ],
      "text/plain": [
       "Name          x2330     x2317          x6505         x2412          x3008\n",
       "Slope      1.012544  1.231096   8.023646e-01  3.067692e-01   1.226868e+00\n",
       "Intercept  0.000528 -0.000258   8.650164e-05  2.649602e-04   1.367997e-03\n",
       "R          0.719706  0.718608   5.716112e-01  2.902508e-01   5.156340e-01\n",
       "P-value    0.000000  0.000000  4.491922e-215  2.533033e-49  1.761032e-168\n",
       "Std ERR    0.019626  0.023938   2.314194e-02  2.032193e-02   4.096165e-02"
      ]
     },
     "execution_count": 64,
     "metadata": {},
     "output_type": "execute_result"
    }
   ],
   "source": [
    "result1"
   ]
  },
  {
   "cell_type": "code",
   "execution_count": null,
   "metadata": {
    "collapsed": true
   },
   "outputs": [],
   "source": []
  },
  {
   "cell_type": "code",
   "execution_count": 53,
   "metadata": {},
   "outputs": [
    {
     "data": {
      "image/png": "[encoded data removed]",
      "text/plain": [
       "<matplotlib.figure.Figure at 0x136816a3860>"
      ]
     },
     "metadata": {},
     "output_type": "display_data"
    }
   ],
   "source": [
    "slope, intercept, r_value, p_value, std_err = sp.stats.linregress(data[5], data[0])\n",
    "plt.plot(data[5], data[0], 'o', label='original data')\n",
    "plt.plot(data[5], intercept + slope*data[5], 'r', label='fitted line')\n",
    "plt.legend()\n",
    "plt.show()"
   ]
  },
  {
   "cell_type": "code",
   "execution_count": null,
   "metadata": {
    "collapsed": true
   },
   "outputs": [],
   "source": []
  },
  {
   "cell_type": "code",
   "execution_count": null,
   "metadata": {
    "collapsed": true
   },
   "outputs": [],
   "source": []
  }
 ],
 "metadata": {
  "kernelspec": {
   "display_name": "Python 3",
   "language": "python",
   "name": "python3"
  },
  "language_info": {
   "codemirror_mode": {
    "name": "ipython",
    "version": 3
   },
   "file_extension": ".py",
   "mimetype": "text/x-python",
   "name": "python",
   "nbconvert_exporter": "python",
   "pygments_lexer": "ipython3",
   "version": "3.6.3"
  },
  "varInspector": {
   "cols": {
    "lenName": 16,
    "lenType": 16,
    "lenVar": 40
   },
   "kernels_config": {
    "python": {
     "delete_cmd_postfix": "",
     "delete_cmd_prefix": "del ",
     "library": "var_list.py",
     "varRefreshCmd": "print(var_dic_list())"
    },
    "r": {
     "delete_cmd_postfix": ") ",
     "delete_cmd_prefix": "rm(",
     "library": "var_list.r",
     "varRefreshCmd": "cat(var_dic_list()) "
    }
   },
   "types_to_exclude": [
    "module",
    "function",
    "builtin_function_or_method",
    "instance",
    "_Feature"
   ],
   "window_display": false
  }
 },
 "nbformat": 4,
 "nbformat_minor": 2
}
