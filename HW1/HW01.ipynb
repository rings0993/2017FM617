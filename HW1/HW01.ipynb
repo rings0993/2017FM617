{
 "cells": [
  {
   "cell_type": "markdown",
   "metadata": {},
   "source": [
    "# HW1"
   ]
  },
  {
   "cell_type": "markdown",
   "metadata": {},
   "source": [
    " ## Q1. 請使用 python 讀入 Nasdaq 公司資訊！"
   ]
  },
  {
   "cell_type": "code",
   "execution_count": 1,
   "metadata": {
    "collapsed": true
   },
   "outputs": [],
   "source": [
    "import pandas as pd"
   ]
  },
  {
   "cell_type": "code",
   "execution_count": 4,
   "metadata": {
    "collapsed": true
   },
   "outputs": [],
   "source": [
    "url = \"http://www.nasdaq.com/screening/companies-by-industry.aspx?exchange=NASDAQ&render=download\""
   ]
  },
  {
   "cell_type": "code",
   "execution_count": 5,
   "metadata": {
    "collapsed": true
   },
   "outputs": [],
   "source": [
    "data = pd.read_csv(url)"
   ]
  },
  {
   "cell_type": "code",
   "execution_count": 6,
   "metadata": {},
   "outputs": [
    {
     "data": {
      "text/html": [
       "<div>\n",
       "<style>\n",
       "    .dataframe thead tr:only-child th {\n",
       "        text-align: right;\n",
       "    }\n",
       "\n",
       "    .dataframe thead th {\n",
       "        text-align: left;\n",
       "    }\n",
       "\n",
       "    .dataframe tbody tr th {\n",
       "        vertical-align: top;\n",
       "    }\n",
       "</style>\n",
       "<table border=\"1\" class=\"dataframe\">\n",
       "  <thead>\n",
       "    <tr style=\"text-align: right;\">\n",
       "      <th></th>\n",
       "      <th>Symbol</th>\n",
       "      <th>Name</th>\n",
       "      <th>LastSale</th>\n",
       "      <th>MarketCap</th>\n",
       "      <th>ADR TSO</th>\n",
       "      <th>IPOyear</th>\n",
       "      <th>Sector</th>\n",
       "      <th>Industry</th>\n",
       "      <th>Summary Quote</th>\n",
       "      <th>Unnamed: 9</th>\n",
       "    </tr>\n",
       "  </thead>\n",
       "  <tbody>\n",
       "    <tr>\n",
       "      <th>0</th>\n",
       "      <td>PIH</td>\n",
       "      <td>1347 Property Insurance Holdings, Inc.</td>\n",
       "      <td>7</td>\n",
       "      <td>4.169736e+07</td>\n",
       "      <td>n/a</td>\n",
       "      <td>2014</td>\n",
       "      <td>Finance</td>\n",
       "      <td>Property-Casualty Insurers</td>\n",
       "      <td>http://www.nasdaq.com/symbol/pih</td>\n",
       "      <td>NaN</td>\n",
       "    </tr>\n",
       "    <tr>\n",
       "      <th>1</th>\n",
       "      <td>TURN</td>\n",
       "      <td>180 Degree Capital Corp.</td>\n",
       "      <td>2</td>\n",
       "      <td>6.224312e+07</td>\n",
       "      <td>n/a</td>\n",
       "      <td>n/a</td>\n",
       "      <td>Finance</td>\n",
       "      <td>Finance/Investors Services</td>\n",
       "      <td>http://www.nasdaq.com/symbol/turn</td>\n",
       "      <td>NaN</td>\n",
       "    </tr>\n",
       "    <tr>\n",
       "      <th>2</th>\n",
       "      <td>FLWS</td>\n",
       "      <td>1-800 FLOWERS.COM, Inc.</td>\n",
       "      <td>9.15</td>\n",
       "      <td>5.909546e+08</td>\n",
       "      <td>n/a</td>\n",
       "      <td>1999</td>\n",
       "      <td>Consumer Services</td>\n",
       "      <td>Other Specialty Stores</td>\n",
       "      <td>http://www.nasdaq.com/symbol/flws</td>\n",
       "      <td>NaN</td>\n",
       "    </tr>\n",
       "    <tr>\n",
       "      <th>3</th>\n",
       "      <td>FCCY</td>\n",
       "      <td>1st Constitution Bancorp (NJ)</td>\n",
       "      <td>17.25</td>\n",
       "      <td>1.391999e+08</td>\n",
       "      <td>n/a</td>\n",
       "      <td>n/a</td>\n",
       "      <td>Finance</td>\n",
       "      <td>Savings Institutions</td>\n",
       "      <td>http://www.nasdaq.com/symbol/fccy</td>\n",
       "      <td>NaN</td>\n",
       "    </tr>\n",
       "    <tr>\n",
       "      <th>4</th>\n",
       "      <td>SRCE</td>\n",
       "      <td>1st Source Corporation</td>\n",
       "      <td>49.17</td>\n",
       "      <td>1.275280e+09</td>\n",
       "      <td>n/a</td>\n",
       "      <td>n/a</td>\n",
       "      <td>Finance</td>\n",
       "      <td>Major Banks</td>\n",
       "      <td>http://www.nasdaq.com/symbol/srce</td>\n",
       "      <td>NaN</td>\n",
       "    </tr>\n",
       "    <tr>\n",
       "      <th>5</th>\n",
       "      <td>VNET</td>\n",
       "      <td>21Vianet Group, Inc.</td>\n",
       "      <td>7.21</td>\n",
       "      <td>4.303781e+08</td>\n",
       "      <td>59691833</td>\n",
       "      <td>2011</td>\n",
       "      <td>Technology</td>\n",
       "      <td>Computer Software: Programming, Data Processing</td>\n",
       "      <td>http://www.nasdaq.com/symbol/vnet</td>\n",
       "      <td>NaN</td>\n",
       "    </tr>\n",
       "    <tr>\n",
       "      <th>6</th>\n",
       "      <td>TWOU</td>\n",
       "      <td>2U, Inc.</td>\n",
       "      <td>62.49</td>\n",
       "      <td>3.248292e+09</td>\n",
       "      <td>n/a</td>\n",
       "      <td>2014</td>\n",
       "      <td>Technology</td>\n",
       "      <td>Computer Software: Prepackaged Software</td>\n",
       "      <td>http://www.nasdaq.com/symbol/twou</td>\n",
       "      <td>NaN</td>\n",
       "    </tr>\n",
       "    <tr>\n",
       "      <th>7</th>\n",
       "      <td>JOBS</td>\n",
       "      <td>51job, Inc.</td>\n",
       "      <td>62.36</td>\n",
       "      <td>2.294435e+09</td>\n",
       "      <td>36793371</td>\n",
       "      <td>2004</td>\n",
       "      <td>Technology</td>\n",
       "      <td>Diversified Commercial Services</td>\n",
       "      <td>http://www.nasdaq.com/symbol/jobs</td>\n",
       "      <td>NaN</td>\n",
       "    </tr>\n",
       "    <tr>\n",
       "      <th>8</th>\n",
       "      <td>CAFD</td>\n",
       "      <td>8point3 Energy Partners LP</td>\n",
       "      <td>15.08</td>\n",
       "      <td>1.192601e+09</td>\n",
       "      <td>n/a</td>\n",
       "      <td>2015</td>\n",
       "      <td>Public Utilities</td>\n",
       "      <td>Electric Utilities: Central</td>\n",
       "      <td>http://www.nasdaq.com/symbol/cafd</td>\n",
       "      <td>NaN</td>\n",
       "    </tr>\n",
       "    <tr>\n",
       "      <th>9</th>\n",
       "      <td>EGHT</td>\n",
       "      <td>8x8 Inc</td>\n",
       "      <td>14</td>\n",
       "      <td>1.285602e+09</td>\n",
       "      <td>n/a</td>\n",
       "      <td>n/a</td>\n",
       "      <td>Public Utilities</td>\n",
       "      <td>Telecommunications Equipment</td>\n",
       "      <td>http://www.nasdaq.com/symbol/eght</td>\n",
       "      <td>NaN</td>\n",
       "    </tr>\n",
       "  </tbody>\n",
       "</table>\n",
       "</div>"
      ],
      "text/plain": [
       "  Symbol                                    Name LastSale     MarketCap  \\\n",
       "0    PIH  1347 Property Insurance Holdings, Inc.        7  4.169736e+07   \n",
       "1   TURN                180 Degree Capital Corp.        2  6.224312e+07   \n",
       "2   FLWS                 1-800 FLOWERS.COM, Inc.     9.15  5.909546e+08   \n",
       "3   FCCY           1st Constitution Bancorp (NJ)    17.25  1.391999e+08   \n",
       "4   SRCE                  1st Source Corporation    49.17  1.275280e+09   \n",
       "5   VNET                    21Vianet Group, Inc.     7.21  4.303781e+08   \n",
       "6   TWOU                                2U, Inc.    62.49  3.248292e+09   \n",
       "7   JOBS                             51job, Inc.    62.36  2.294435e+09   \n",
       "8   CAFD              8point3 Energy Partners LP    15.08  1.192601e+09   \n",
       "9   EGHT                                 8x8 Inc       14  1.285602e+09   \n",
       "\n",
       "    ADR TSO IPOyear             Sector  \\\n",
       "0       n/a    2014            Finance   \n",
       "1       n/a     n/a            Finance   \n",
       "2       n/a    1999  Consumer Services   \n",
       "3       n/a     n/a            Finance   \n",
       "4       n/a     n/a            Finance   \n",
       "5  59691833    2011         Technology   \n",
       "6       n/a    2014         Technology   \n",
       "7  36793371    2004         Technology   \n",
       "8       n/a    2015   Public Utilities   \n",
       "9       n/a     n/a   Public Utilities   \n",
       "\n",
       "                                          Industry  \\\n",
       "0                       Property-Casualty Insurers   \n",
       "1                       Finance/Investors Services   \n",
       "2                           Other Specialty Stores   \n",
       "3                             Savings Institutions   \n",
       "4                                      Major Banks   \n",
       "5  Computer Software: Programming, Data Processing   \n",
       "6          Computer Software: Prepackaged Software   \n",
       "7                  Diversified Commercial Services   \n",
       "8                      Electric Utilities: Central   \n",
       "9                     Telecommunications Equipment   \n",
       "\n",
       "                       Summary Quote  Unnamed: 9  \n",
       "0   http://www.nasdaq.com/symbol/pih         NaN  \n",
       "1  http://www.nasdaq.com/symbol/turn         NaN  \n",
       "2  http://www.nasdaq.com/symbol/flws         NaN  \n",
       "3  http://www.nasdaq.com/symbol/fccy         NaN  \n",
       "4  http://www.nasdaq.com/symbol/srce         NaN  \n",
       "5  http://www.nasdaq.com/symbol/vnet         NaN  \n",
       "6  http://www.nasdaq.com/symbol/twou         NaN  \n",
       "7  http://www.nasdaq.com/symbol/jobs         NaN  \n",
       "8  http://www.nasdaq.com/symbol/cafd         NaN  \n",
       "9  http://www.nasdaq.com/symbol/eght         NaN  "
      ]
     },
     "execution_count": 6,
     "metadata": {},
     "output_type": "execute_result"
    }
   ],
   "source": [
    "data.head(10)"
   ]
  },
  {
   "cell_type": "markdown",
   "metadata": {},
   "source": [
    " ## Q2. 請使用 python 畫中山大學管理學院周邊地圖！"
   ]
  },
  {
   "cell_type": "code",
   "execution_count": 2,
   "metadata": {
    "collapsed": true
   },
   "outputs": [],
   "source": [
    "import geocoder\n",
    "import folium"
   ]
  },
  {
   "cell_type": "code",
   "execution_count": 3,
   "metadata": {
    "scrolled": true
   },
   "outputs": [
    {
     "data": {
      "text/plain": [
       "[22.627447, 120.265274]"
      ]
     },
     "execution_count": 3,
     "metadata": {},
     "output_type": "execute_result"
    }
   ],
   "source": [
    "g = geocoder.google('中山大學管理學院',method = \"geocode\").latlng\n",
    "g"
   ]
  },
  {
   "cell_type": "code",
   "execution_count": 4,
   "metadata": {},
   "outputs": [
    {
     "data": {
      "text/html": [
       "<div style=\"width:100%;\"><div style=\"position:relative;width:100%;height:0;padding-bottom:60%;\"><iframe src=\"data:text/html;charset=utf-8;base64,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\" style=\"position:absolute;width:100%;height:100%;left:0;top:0;border:none !important;\" allowfullscreen webkitallowfullscreen mozallowfullscreen></iframe></div></div>"
      ],
      "text/plain": [
       "<folium.folium.Map at 0x256b97ae6a0>"
      ]
     },
     "execution_count": 4,
     "metadata": {},
     "output_type": "execute_result"
    }
   ],
   "source": [
    "maps = folium.Map(location= g)\n",
    "maps"
   ]
  },
  {
   "cell_type": "markdown",
   "metadata": {},
   "source": [
    " ## Q3. 請使用 python 將新聞中可能的關鍵詞萃取出來！ (Bonus)"
   ]
  },
  {
   "cell_type": "code",
   "execution_count": 5,
   "metadata": {},
   "outputs": [],
   "source": [
    "import util\n",
    "import jieba"
   ]
  },
  {
   "cell_type": "code",
   "execution_count": 6,
   "metadata": {},
   "outputs": [
    {
     "data": {
      "text/plain": [
       "'根據 IHS Markit 研調數據顯示，今年第 3 季全球智慧型手機出貨 3.66 億台，年增 6.1%，蘋果新機 iPhone8 及 iPhoneX 上市影響逐步顯現，iPhone 出貨年增 2.6%，前五大品牌廠排名，三星仍然居冠，蘋果居次，其餘則是中國品牌華為、OPPO、小米等，第 3 季出貨皆較去年同期成長。\\nIHS Markit 統計，小米重新擠進全球第五，第 3 季出貨較去年同期增加\\xa0111.2%，出貨量\\xa02760 萬支，略微領先 Vivo，重回前五大，Vivo 則以 2540 萬支，居全球第六，但出貨仍較去年同期成長\\xa020.4%。\\n三星第 3 季智慧手機出貨 8340 萬支，年增 7.7%，全球市占率增至 23%，年增 1 個百分點，由於中國市場逐步被本土品牌占领，三星在中國市場拓展略顯乏力。\\n蘋果第 3 季度智慧手機出貨 4670 萬支，年增 2.6%；在中國區整體收入年增 12%，挽回近期中國市場衰退窘境，在美國則是年增 14%，在歐洲年增 20%，亞洲地區年增 5 %，日本的銷售收入則年減 11%；由於 iPhone 8 在第 3 季度末正式發售，iPhone X 在上周開始銷售，較明顯的出貨貢獻時間將在第 4 季。\\n華為持續穩定守住全球第三，第 3 季智慧手機出貨 3910 萬支，年增 16.4%，全球市占率增至 11%，受惠在本土市場具備品牌優勢，出貨持續领先。\\nOPPO 和 VIVO\\xa0在第 3 季都穩定成長，OPPO 智慧手機出貨 3160 萬支，年增 17.9%；Vivo 出貨 2540 萬支，年增 20.4%；兩個品牌全球市占率分別是 9% 及 % 來看，皆較去年略微成長。\\n'"
      ]
     },
     "execution_count": 6,
     "metadata": {},
     "output_type": "execute_result"
    }
   ],
   "source": [
    "news_text = util.get_news_article('https://news.cnyes.com/news/id/3956525')\n",
    "news_text"
   ]
  },
  {
   "cell_type": "code",
   "execution_count": 7,
   "metadata": {},
   "outputs": [
    {
     "name": "stderr",
     "output_type": "stream",
     "text": [
      "Building prefix dict from the default dictionary ...\n",
      "Dumping model to file cache C:\\Users\\Vay\\AppData\\Local\\Temp\\jieba.cache\n",
      "Loading model cost 1.374 seconds.\n",
      "Prefix dict has been built succesfully.\n"
     ]
    },
    {
     "name": "stdout",
     "output_type": "stream",
     "text": [
      "根據/ /IHS/ /Markit/ /研調/數據/顯示/，/今年/第/ /3/ /季/全球/智慧型/手機/出貨/ /3.66/ /億台/，/年增/ /6.1%/，/蘋果/新機/ /iPhone8/ /及/ /iPhoneX/ /上市/影響/逐步/顯現/，/iPhone/ /出貨年/增/ /2.6%/，/前/五大/品牌/廠/排名/，/三星/仍然/居冠/，/蘋果/居次/，/其餘則/是/中國/品牌/華為/、/OPPO/、/小米/等/，/第/ /3/ /季出/貨皆較/去年同期/成長/。/\n",
      "/IHS/ /Markit/ /統計/，/小米/重新/擠進/全球/第五/，/第/ /3/ /季出/貨較/去年同期/增加/ /111.2%/，/出貨量/ /2760/ /萬支/，/略微/領先/ /Vivo/，/重回/前/五大/，/Vivo/ /則以/ /2540/ /萬支/，/居/全球/第六/，/但/出貨/仍/較/去年同期/成長/ /20.4%/。/\n",
      "/三星/第/ /3/ /季/智慧/手機/出貨/ /8340/ /萬支/，/年增/ /7.7%/，/全球/市占率/增至/ /23%/，/年增/ /1/ /個/百分/點/，/由/於/中國/市場/逐步/被/本土/品牌/占领/，/三星/在/中國/市場/拓展/略顯/乏力/。/\n",
      "/蘋果/第/ /3/ /季度/智慧/手機/出貨/ /4670/ /萬支/，/年增/ /2.6%/；/在/中國區/整體/收入/年增/ /12%/，/挽回/近期/中國/市場/衰退/窘境/，/在/美國則/是/年/增/ /14%/，/在/歐洲/年/增/ /20%/，/亞洲/地區/年/增/ /5/ /%/，/日本/的/銷售/收入/則年減/ /11%/；/由/於/ /iPhone/ /8/ /在/第/ /3/ /季度末/正式/發售/，/iPhone/ /X/ /在/上周/開始/銷售/，/較明顯/的/出貨/貢獻/時間/將在/第/ /4/ /季/。/\n",
      "/華為/持續/穩定/守住/全球/第三/，/第/ /3/ /季/智慧/手機/出貨/ /3910/ /萬支/，/年增/ /16.4%/，/全球/市占率/增至/ /11%/，/受惠/在/本土/市場/具備/品牌/優勢/，/出貨持續/领先/。/\n",
      "/OPPO/ /和/ /VIVO/ /在/第/ /3/ /季都/穩定/成長/，/OPPO/ /智慧/手機/出貨/ /3160/ /萬支/，/年增/ /17.9%/；/Vivo/ /出貨/ /2540/ /萬支/，/年增/ /20.4%/；/兩個/品牌/全球/市占率/分別/是/ /9%/ /及/ /%/ /來/看/，/皆/較/去年/略微/成長/。/\n",
      "\n"
     ]
    }
   ],
   "source": [
    "seg_list=jieba.cut(news_text)\n",
    "print('/'.join(seg_list))"
   ]
  },
  {
   "cell_type": "code",
   "execution_count": 12,
   "metadata": {},
   "outputs": [
    {
     "data": {
      "text/plain": [
       "[('出貨', 0.4830209092080808),\n",
       " ('年增', 0.4830209092080808),\n",
       " ('萬支', 0.4226432955570707),\n",
       " ('手機', 0.3018880682550505),\n",
       " ('中國', 0.2415104546040404),\n",
       " ('成長', 0.2415104546040404),\n",
       " ('市場', 0.2415104546040404),\n",
       " ('蘋果', 0.18113284095303028),\n",
       " ('iPhone', 0.18113284095303028),\n",
       " ('OPPO', 0.18113284095303028)]"
      ]
     },
     "execution_count": 12,
     "metadata": {},
     "output_type": "execute_result"
    }
   ],
   "source": [
    "import jieba.analyse\n",
    "jieba.analyse.extract_tags(news_text, topK=10, withWeight= True)"
   ]
  },
  {
   "cell_type": "code",
   "execution_count": null,
   "metadata": {
    "collapsed": true
   },
   "outputs": [],
   "source": []
  },
  {
   "cell_type": "code",
   "execution_count": null,
   "metadata": {
    "collapsed": true
   },
   "outputs": [],
   "source": []
  },
  {
   "cell_type": "code",
   "execution_count": null,
   "metadata": {
    "collapsed": true
   },
   "outputs": [],
   "source": []
  },
  {
   "cell_type": "code",
   "execution_count": null,
   "metadata": {
    "collapsed": true
   },
   "outputs": [],
   "source": []
  },
  {
   "cell_type": "code",
   "execution_count": null,
   "metadata": {
    "collapsed": true
   },
   "outputs": [],
   "source": []
  },
  {
   "cell_type": "code",
   "execution_count": null,
   "metadata": {
    "collapsed": true
   },
   "outputs": [],
   "source": []
  },
  {
   "cell_type": "code",
   "execution_count": null,
   "metadata": {
    "collapsed": true
   },
   "outputs": [],
   "source": []
  },
  {
   "cell_type": "code",
   "execution_count": null,
   "metadata": {
    "collapsed": true
   },
   "outputs": [],
   "source": []
  },
  {
   "cell_type": "code",
   "execution_count": null,
   "metadata": {
    "collapsed": true
   },
   "outputs": [],
   "source": []
  },
  {
   "cell_type": "code",
   "execution_count": null,
   "metadata": {
    "collapsed": true
   },
   "outputs": [],
   "source": []
  },
  {
   "cell_type": "code",
   "execution_count": null,
   "metadata": {
    "collapsed": true
   },
   "outputs": [],
   "source": []
  },
  {
   "cell_type": "code",
   "execution_count": null,
   "metadata": {
    "collapsed": true
   },
   "outputs": [],
   "source": []
  },
  {
   "cell_type": "code",
   "execution_count": null,
   "metadata": {
    "collapsed": true
   },
   "outputs": [],
   "source": []
  },
  {
   "cell_type": "code",
   "execution_count": null,
   "metadata": {
    "collapsed": true
   },
   "outputs": [],
   "source": []
  },
  {
   "cell_type": "code",
   "execution_count": null,
   "metadata": {
    "collapsed": true
   },
   "outputs": [],
   "source": []
  }
 ],
 "metadata": {
  "kernelspec": {
   "display_name": "Python 3",
   "language": "python",
   "name": "python3"
  },
  "language_info": {
   "codemirror_mode": {
    "name": "ipython",
    "version": 3
   },
   "file_extension": ".py",
   "mimetype": "text/x-python",
   "name": "python",
   "nbconvert_exporter": "python",
   "pygments_lexer": "ipython3",
   "version": "3.6.3"
  },
  "varInspector": {
   "cols": {
    "lenName": 16,
    "lenType": 16,
    "lenVar": 40
   },
   "kernels_config": {
    "python": {
     "delete_cmd_postfix": "",
     "delete_cmd_prefix": "del ",
     "library": "var_list.py",
     "varRefreshCmd": "print(var_dic_list())"
    },
    "r": {
     "delete_cmd_postfix": ") ",
     "delete_cmd_prefix": "rm(",
     "library": "var_list.r",
     "varRefreshCmd": "cat(var_dic_list()) "
    }
   },
   "types_to_exclude": [
    "module",
    "function",
    "builtin_function_or_method",
    "instance",
    "_Feature"
   ],
   "window_display": false
  }
 },
 "nbformat": 4,
 "nbformat_minor": 2
}
